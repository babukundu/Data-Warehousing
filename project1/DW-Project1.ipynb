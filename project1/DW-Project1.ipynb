{
 "cells": [
  {
   "cell_type": "markdown",
   "id": "03032c36",
   "metadata": {},
   "source": [
    "# Import Data "
   ]
  },
  {
   "cell_type": "code",
   "execution_count": 7,
   "id": "cebe532f",
   "metadata": {},
   "outputs": [
    {
     "name": "stderr",
     "output_type": "stream",
     "text": [
      "C:\\Users\\HP\\AppData\\Local\\Temp\\ipykernel_26040\\3942097481.py:10: DtypeWarning: Columns (5,10,11,12,13,14,15,17) have mixed types. Specify dtype option on import or set low_memory=False.\n",
      "  return pd.read_csv(csv_path)\n"
     ]
    },
    {
     "data": {
      "text/html": [
       "<div>\n",
       "<style scoped>\n",
       "    .dataframe tbody tr th:only-of-type {\n",
       "        vertical-align: middle;\n",
       "    }\n",
       "\n",
       "    .dataframe tbody tr th {\n",
       "        vertical-align: top;\n",
       "    }\n",
       "\n",
       "    .dataframe thead th {\n",
       "        text-align: right;\n",
       "    }\n",
       "</style>\n",
       "<table border=\"1\" class=\"dataframe\">\n",
       "  <thead>\n",
       "    <tr style=\"text-align: right;\">\n",
       "      <th></th>\n",
       "      <th>Unnamed: 0</th>\n",
       "      <th>crime</th>\n",
       "      <th>number</th>\n",
       "      <th>date</th>\n",
       "      <th>location</th>\n",
       "      <th>beat</th>\n",
       "      <th>neighborhood</th>\n",
       "      <th>npu</th>\n",
       "      <th>lat</th>\n",
       "      <th>long</th>\n",
       "      <th>type</th>\n",
       "      <th>road</th>\n",
       "      <th>neighbourhood_lookup</th>\n",
       "      <th>city</th>\n",
       "      <th>county</th>\n",
       "      <th>state</th>\n",
       "      <th>postcode</th>\n",
       "      <th>country</th>\n",
       "    </tr>\n",
       "  </thead>\n",
       "  <tbody>\n",
       "    <tr>\n",
       "      <th>0</th>\n",
       "      <td>0</td>\n",
       "      <td>LARCENY-NON VEHICLE</td>\n",
       "      <td>103040029.0</td>\n",
       "      <td>10/31/2010</td>\n",
       "      <td>610 SPRING ST NW</td>\n",
       "      <td>509</td>\n",
       "      <td>Downtown</td>\n",
       "      <td>M</td>\n",
       "      <td>33.77101</td>\n",
       "      <td>-84.38895</td>\n",
       "      <td>house_number</td>\n",
       "      <td>Spring Street Northwest</td>\n",
       "      <td>NaN</td>\n",
       "      <td>Atlanta</td>\n",
       "      <td>Fulton County</td>\n",
       "      <td>Georgia</td>\n",
       "      <td>30308.0</td>\n",
       "      <td>United States</td>\n",
       "    </tr>\n",
       "    <tr>\n",
       "      <th>1</th>\n",
       "      <td>1</td>\n",
       "      <td>AUTO THEFT</td>\n",
       "      <td>103040061.0</td>\n",
       "      <td>10/31/2010</td>\n",
       "      <td>850 OAK ST SW</td>\n",
       "      <td>401</td>\n",
       "      <td>West End</td>\n",
       "      <td>T</td>\n",
       "      <td>33.74057</td>\n",
       "      <td>-84.41680</td>\n",
       "      <td>office</td>\n",
       "      <td>Oak Street Southwest</td>\n",
       "      <td>West End</td>\n",
       "      <td>Atlanta</td>\n",
       "      <td>Fulton County</td>\n",
       "      <td>Georgia</td>\n",
       "      <td>30310.0</td>\n",
       "      <td>United States</td>\n",
       "    </tr>\n",
       "    <tr>\n",
       "      <th>2</th>\n",
       "      <td>2</td>\n",
       "      <td>LARCENY-FROM VEHICLE</td>\n",
       "      <td>103040169.0</td>\n",
       "      <td>10/31/2010</td>\n",
       "      <td>1344 METROPOLITAN PKWY SW</td>\n",
       "      <td>301</td>\n",
       "      <td>Capitol View Manor</td>\n",
       "      <td>X</td>\n",
       "      <td>33.71803</td>\n",
       "      <td>-84.40774</td>\n",
       "      <td>shop</td>\n",
       "      <td>Metropolitan Parkway Southwest</td>\n",
       "      <td>Capitol View</td>\n",
       "      <td>Atlanta</td>\n",
       "      <td>Fulton County</td>\n",
       "      <td>Georgia</td>\n",
       "      <td>30310.0</td>\n",
       "      <td>United States</td>\n",
       "    </tr>\n",
       "    <tr>\n",
       "      <th>3</th>\n",
       "      <td>3</td>\n",
       "      <td>AUTO THEFT</td>\n",
       "      <td>103040174.0</td>\n",
       "      <td>10/31/2010</td>\n",
       "      <td>1752 PRYOR RD SW</td>\n",
       "      <td>307</td>\n",
       "      <td>Betmar LaVilla</td>\n",
       "      <td>Y</td>\n",
       "      <td>33.70731</td>\n",
       "      <td>-84.39674</td>\n",
       "      <td>house_number</td>\n",
       "      <td>Pryor Street</td>\n",
       "      <td>NaN</td>\n",
       "      <td>Atlanta</td>\n",
       "      <td>Fulton County</td>\n",
       "      <td>Georgia</td>\n",
       "      <td>30315.0</td>\n",
       "      <td>United States</td>\n",
       "    </tr>\n",
       "    <tr>\n",
       "      <th>4</th>\n",
       "      <td>4</td>\n",
       "      <td>LARCENY-NON VEHICLE</td>\n",
       "      <td>103040301.0</td>\n",
       "      <td>10/31/2010</td>\n",
       "      <td>JOHN WESLEY DOBBS AVE NE / CORLEY ST NE</td>\n",
       "      <td>604</td>\n",
       "      <td>Old Fourth Ward</td>\n",
       "      <td>M</td>\n",
       "      <td>33.75947</td>\n",
       "      <td>-84.36626</td>\n",
       "      <td>house_number</td>\n",
       "      <td>John Wesley Dobbs Avenue Northeast</td>\n",
       "      <td>Inman Park</td>\n",
       "      <td>Atlanta</td>\n",
       "      <td>Fulton County</td>\n",
       "      <td>Georgia</td>\n",
       "      <td>30312.0</td>\n",
       "      <td>United States</td>\n",
       "    </tr>\n",
       "  </tbody>\n",
       "</table>\n",
       "</div>"
      ],
      "text/plain": [
       "   Unnamed: 0                 crime       number        date  \\\n",
       "0           0   LARCENY-NON VEHICLE  103040029.0  10/31/2010   \n",
       "1           1            AUTO THEFT  103040061.0  10/31/2010   \n",
       "2           2  LARCENY-FROM VEHICLE  103040169.0  10/31/2010   \n",
       "3           3            AUTO THEFT  103040174.0  10/31/2010   \n",
       "4           4   LARCENY-NON VEHICLE  103040301.0  10/31/2010   \n",
       "\n",
       "                                  location beat        neighborhood npu  \\\n",
       "0                         610 SPRING ST NW  509            Downtown   M   \n",
       "1                            850 OAK ST SW  401            West End   T   \n",
       "2                1344 METROPOLITAN PKWY SW  301  Capitol View Manor   X   \n",
       "3                         1752 PRYOR RD SW  307      Betmar LaVilla   Y   \n",
       "4  JOHN WESLEY DOBBS AVE NE / CORLEY ST NE  604     Old Fourth Ward   M   \n",
       "\n",
       "        lat      long          type                                road  \\\n",
       "0  33.77101 -84.38895  house_number             Spring Street Northwest   \n",
       "1  33.74057 -84.41680        office                Oak Street Southwest   \n",
       "2  33.71803 -84.40774          shop      Metropolitan Parkway Southwest   \n",
       "3  33.70731 -84.39674  house_number                        Pryor Street   \n",
       "4  33.75947 -84.36626  house_number  John Wesley Dobbs Avenue Northeast   \n",
       "\n",
       "  neighbourhood_lookup     city         county    state  postcode  \\\n",
       "0                  NaN  Atlanta  Fulton County  Georgia   30308.0   \n",
       "1             West End  Atlanta  Fulton County  Georgia   30310.0   \n",
       "2         Capitol View  Atlanta  Fulton County  Georgia   30310.0   \n",
       "3                  NaN  Atlanta  Fulton County  Georgia   30315.0   \n",
       "4           Inman Park  Atlanta  Fulton County  Georgia   30312.0   \n",
       "\n",
       "         country  \n",
       "0  United States  \n",
       "1  United States  \n",
       "2  United States  \n",
       "3  United States  \n",
       "4  United States  "
      ]
     },
     "execution_count": 7,
     "metadata": {},
     "output_type": "execute_result"
    }
   ],
   "source": [
    "import os\n",
    "import tarfile\n",
    "import pandas as pd\n",
    "\n",
    "from six.moves import urllib\n",
    "\n",
    "DATA_PATH = \"D:/uwa/Data_Warehousing/project1/\"\n",
    "def load_data(data_path=DATA_PATH): # a function defined for load train data\n",
    " csv_path = os.path.join(data_path, \"crime.csv\")\n",
    " return pd.read_csv(csv_path)\n",
    "df = load_data()\n",
    "df.head()"
   ]
  },
  {
   "cell_type": "markdown",
   "id": "a133cfa6",
   "metadata": {},
   "source": [
    "# Select only enriched data"
   ]
  },
  {
   "cell_type": "code",
   "execution_count": 8,
   "id": "1de8ecd5",
   "metadata": {},
   "outputs": [
    {
     "data": {
      "text/html": [
       "<div>\n",
       "<style scoped>\n",
       "    .dataframe tbody tr th:only-of-type {\n",
       "        vertical-align: middle;\n",
       "    }\n",
       "\n",
       "    .dataframe tbody tr th {\n",
       "        vertical-align: top;\n",
       "    }\n",
       "\n",
       "    .dataframe thead th {\n",
       "        text-align: right;\n",
       "    }\n",
       "</style>\n",
       "<table border=\"1\" class=\"dataframe\">\n",
       "  <thead>\n",
       "    <tr style=\"text-align: right;\">\n",
       "      <th></th>\n",
       "      <th>Unnamed: 0</th>\n",
       "      <th>crime</th>\n",
       "      <th>number</th>\n",
       "      <th>date</th>\n",
       "      <th>location</th>\n",
       "      <th>beat</th>\n",
       "      <th>neighborhood</th>\n",
       "      <th>npu</th>\n",
       "      <th>lat</th>\n",
       "      <th>long</th>\n",
       "      <th>type</th>\n",
       "      <th>road</th>\n",
       "      <th>neighbourhood_lookup</th>\n",
       "      <th>city</th>\n",
       "      <th>county</th>\n",
       "      <th>state</th>\n",
       "      <th>postcode</th>\n",
       "      <th>country</th>\n",
       "    </tr>\n",
       "  </thead>\n",
       "  <tbody>\n",
       "    <tr>\n",
       "      <th>0</th>\n",
       "      <td>0</td>\n",
       "      <td>LARCENY-NON VEHICLE</td>\n",
       "      <td>103040029.0</td>\n",
       "      <td>10/31/2010</td>\n",
       "      <td>610 SPRING ST NW</td>\n",
       "      <td>509</td>\n",
       "      <td>Downtown</td>\n",
       "      <td>M</td>\n",
       "      <td>33.77101</td>\n",
       "      <td>-84.38895</td>\n",
       "      <td>house_number</td>\n",
       "      <td>Spring Street Northwest</td>\n",
       "      <td>NaN</td>\n",
       "      <td>Atlanta</td>\n",
       "      <td>Fulton County</td>\n",
       "      <td>Georgia</td>\n",
       "      <td>30308.0</td>\n",
       "      <td>United States</td>\n",
       "    </tr>\n",
       "    <tr>\n",
       "      <th>1</th>\n",
       "      <td>1</td>\n",
       "      <td>AUTO THEFT</td>\n",
       "      <td>103040061.0</td>\n",
       "      <td>10/31/2010</td>\n",
       "      <td>850 OAK ST SW</td>\n",
       "      <td>401</td>\n",
       "      <td>West End</td>\n",
       "      <td>T</td>\n",
       "      <td>33.74057</td>\n",
       "      <td>-84.41680</td>\n",
       "      <td>office</td>\n",
       "      <td>Oak Street Southwest</td>\n",
       "      <td>West End</td>\n",
       "      <td>Atlanta</td>\n",
       "      <td>Fulton County</td>\n",
       "      <td>Georgia</td>\n",
       "      <td>30310.0</td>\n",
       "      <td>United States</td>\n",
       "    </tr>\n",
       "    <tr>\n",
       "      <th>2</th>\n",
       "      <td>2</td>\n",
       "      <td>LARCENY-FROM VEHICLE</td>\n",
       "      <td>103040169.0</td>\n",
       "      <td>10/31/2010</td>\n",
       "      <td>1344 METROPOLITAN PKWY SW</td>\n",
       "      <td>301</td>\n",
       "      <td>Capitol View Manor</td>\n",
       "      <td>X</td>\n",
       "      <td>33.71803</td>\n",
       "      <td>-84.40774</td>\n",
       "      <td>shop</td>\n",
       "      <td>Metropolitan Parkway Southwest</td>\n",
       "      <td>Capitol View</td>\n",
       "      <td>Atlanta</td>\n",
       "      <td>Fulton County</td>\n",
       "      <td>Georgia</td>\n",
       "      <td>30310.0</td>\n",
       "      <td>United States</td>\n",
       "    </tr>\n",
       "    <tr>\n",
       "      <th>3</th>\n",
       "      <td>3</td>\n",
       "      <td>AUTO THEFT</td>\n",
       "      <td>103040174.0</td>\n",
       "      <td>10/31/2010</td>\n",
       "      <td>1752 PRYOR RD SW</td>\n",
       "      <td>307</td>\n",
       "      <td>Betmar LaVilla</td>\n",
       "      <td>Y</td>\n",
       "      <td>33.70731</td>\n",
       "      <td>-84.39674</td>\n",
       "      <td>house_number</td>\n",
       "      <td>Pryor Street</td>\n",
       "      <td>NaN</td>\n",
       "      <td>Atlanta</td>\n",
       "      <td>Fulton County</td>\n",
       "      <td>Georgia</td>\n",
       "      <td>30315.0</td>\n",
       "      <td>United States</td>\n",
       "    </tr>\n",
       "    <tr>\n",
       "      <th>4</th>\n",
       "      <td>4</td>\n",
       "      <td>LARCENY-NON VEHICLE</td>\n",
       "      <td>103040301.0</td>\n",
       "      <td>10/31/2010</td>\n",
       "      <td>JOHN WESLEY DOBBS AVE NE / CORLEY ST NE</td>\n",
       "      <td>604</td>\n",
       "      <td>Old Fourth Ward</td>\n",
       "      <td>M</td>\n",
       "      <td>33.75947</td>\n",
       "      <td>-84.36626</td>\n",
       "      <td>house_number</td>\n",
       "      <td>John Wesley Dobbs Avenue Northeast</td>\n",
       "      <td>Inman Park</td>\n",
       "      <td>Atlanta</td>\n",
       "      <td>Fulton County</td>\n",
       "      <td>Georgia</td>\n",
       "      <td>30312.0</td>\n",
       "      <td>United States</td>\n",
       "    </tr>\n",
       "  </tbody>\n",
       "</table>\n",
       "</div>"
      ],
      "text/plain": [
       "   Unnamed: 0                 crime       number        date  \\\n",
       "0           0   LARCENY-NON VEHICLE  103040029.0  10/31/2010   \n",
       "1           1            AUTO THEFT  103040061.0  10/31/2010   \n",
       "2           2  LARCENY-FROM VEHICLE  103040169.0  10/31/2010   \n",
       "3           3            AUTO THEFT  103040174.0  10/31/2010   \n",
       "4           4   LARCENY-NON VEHICLE  103040301.0  10/31/2010   \n",
       "\n",
       "                                  location beat        neighborhood npu  \\\n",
       "0                         610 SPRING ST NW  509            Downtown   M   \n",
       "1                            850 OAK ST SW  401            West End   T   \n",
       "2                1344 METROPOLITAN PKWY SW  301  Capitol View Manor   X   \n",
       "3                         1752 PRYOR RD SW  307      Betmar LaVilla   Y   \n",
       "4  JOHN WESLEY DOBBS AVE NE / CORLEY ST NE  604     Old Fourth Ward   M   \n",
       "\n",
       "        lat      long          type                                road  \\\n",
       "0  33.77101 -84.38895  house_number             Spring Street Northwest   \n",
       "1  33.74057 -84.41680        office                Oak Street Southwest   \n",
       "2  33.71803 -84.40774          shop      Metropolitan Parkway Southwest   \n",
       "3  33.70731 -84.39674  house_number                        Pryor Street   \n",
       "4  33.75947 -84.36626  house_number  John Wesley Dobbs Avenue Northeast   \n",
       "\n",
       "  neighbourhood_lookup     city         county    state  postcode  \\\n",
       "0                  NaN  Atlanta  Fulton County  Georgia   30308.0   \n",
       "1             West End  Atlanta  Fulton County  Georgia   30310.0   \n",
       "2         Capitol View  Atlanta  Fulton County  Georgia   30310.0   \n",
       "3                  NaN  Atlanta  Fulton County  Georgia   30315.0   \n",
       "4           Inman Park  Atlanta  Fulton County  Georgia   30312.0   \n",
       "\n",
       "         country  \n",
       "0  United States  \n",
       "1  United States  \n",
       "2  United States  \n",
       "3  United States  \n",
       "4  United States  "
      ]
     },
     "execution_count": 8,
     "metadata": {},
     "output_type": "execute_result"
    }
   ],
   "source": [
    "df1 = df.iloc[0: 25470]\n",
    "df1.head()"
   ]
  },
  {
   "cell_type": "code",
   "execution_count": 9,
   "id": "e3dff97d",
   "metadata": {},
   "outputs": [],
   "source": [
    "# Drop NAN/NULL values\n",
    "df_clean = df1.dropna()"
   ]
  },
  {
   "cell_type": "code",
   "execution_count": 10,
   "id": "e8b31eac",
   "metadata": {},
   "outputs": [
    {
     "name": "stderr",
     "output_type": "stream",
     "text": [
      "C:\\Users\\HP\\AppData\\Local\\Temp\\ipykernel_26040\\3882009161.py:1: SettingWithCopyWarning: \n",
      "A value is trying to be set on a copy of a slice from a DataFrame.\n",
      "Try using .loc[row_indexer,col_indexer] = value instead\n",
      "\n",
      "See the caveats in the documentation: https://pandas.pydata.org/pandas-docs/stable/user_guide/indexing.html#returning-a-view-versus-a-copy\n",
      "  df_clean['number'] = df_clean['number'].astype(int)\n"
     ]
    }
   ],
   "source": [
    "df_clean['number'] = df_clean['number'].astype(int)"
   ]
  },
  {
   "cell_type": "code",
   "execution_count": 11,
   "id": "4b2c7959",
   "metadata": {},
   "outputs": [
    {
     "name": "stderr",
     "output_type": "stream",
     "text": [
      "C:\\Users\\HP\\AppData\\Local\\Temp\\ipykernel_26040\\302959489.py:1: SettingWithCopyWarning: \n",
      "A value is trying to be set on a copy of a slice from a DataFrame.\n",
      "Try using .loc[row_indexer,col_indexer] = value instead\n",
      "\n",
      "See the caveats in the documentation: https://pandas.pydata.org/pandas-docs/stable/user_guide/indexing.html#returning-a-view-versus-a-copy\n",
      "  df_clean['postcode'] = df_clean['postcode'].astype(int)\n"
     ]
    }
   ],
   "source": [
    "df_clean['postcode'] = df_clean['postcode'].astype(int)"
   ]
  },
  {
   "cell_type": "code",
   "execution_count": 13,
   "id": "f615f6f3",
   "metadata": {},
   "outputs": [
    {
     "ename": "SyntaxError",
     "evalue": "invalid syntax (1906905400.py, line 2)",
     "output_type": "error",
     "traceback": [
      "\u001b[1;36m  Cell \u001b[1;32mIn[13], line 2\u001b[1;36m\u001b[0m\n\u001b[1;33m    pip install geopandas\u001b[0m\n\u001b[1;37m        ^\u001b[0m\n\u001b[1;31mSyntaxError\u001b[0m\u001b[1;31m:\u001b[0m invalid syntax\n"
     ]
    }
   ],
   "source": [
    "# Install package to collect geodata\n",
    "pip install geopandas"
   ]
  },
  {
   "cell_type": "code",
   "execution_count": 14,
   "id": "71c6969e",
   "metadata": {},
   "outputs": [],
   "source": [
    "import requests\n",
    "import geopandas as gpd\n",
    "df_beat = gpd.read_file('https://services3.arcgis.com/Et5Qfajgiyosiw4d/arcgis/rest/services/2019_Beat_Alignment/FeatureServer/0/query?where=1=1&outFields=*&f=geojson')"
   ]
  },
  {
   "cell_type": "code",
   "execution_count": 15,
   "id": "66341e46",
   "metadata": {},
   "outputs": [],
   "source": [
    "df_zone = gpd.read_file('https://services3.arcgis.com/Et5Qfajgiyosiw4d/arcgis/rest/services/2019_Zone_Alignment/FeatureServer/0/query?where=1=1&outFields=*&f=geojson')"
   ]
  },
  {
   "cell_type": "code",
   "execution_count": 16,
   "id": "8c76be26",
   "metadata": {},
   "outputs": [
    {
     "name": "stderr",
     "output_type": "stream",
     "text": [
      "C:\\cits5508-2023\\lib\\site-packages\\IPython\\core\\interactiveshell.py:3400: FutureWarning: The `op` parameter is deprecated and will be removed in a future release. Please use the `predicate` parameter instead.\n",
      "  if await self.run_code(code, result, async_=asy):\n"
     ]
    }
   ],
   "source": [
    "merged_gdf = gpd.sjoin(df_beat, df_zone, op='within')"
   ]
  },
  {
   "cell_type": "code",
   "execution_count": 17,
   "id": "a1a9328e",
   "metadata": {},
   "outputs": [],
   "source": [
    "df_beatwithzone = df_clean.rename(columns={'beat': 'BEAT'}) \n",
    "df_beatwithzone['BEAT'] = df_beatwithzone['BEAT'].astype('int64') "
   ]
  },
  {
   "cell_type": "code",
   "execution_count": 18,
   "id": "08b4ba31",
   "metadata": {},
   "outputs": [],
   "source": [
    "merged_df = pd.merge(df_beatwithzone,merged_gdf, on='BEAT',how='left')"
   ]
  },
  {
   "cell_type": "code",
   "execution_count": 19,
   "id": "1f85dcfb",
   "metadata": {},
   "outputs": [],
   "source": [
    "merged_df = merged_df.dropna()"
   ]
  },
  {
   "cell_type": "code",
   "execution_count": 20,
   "id": "75695056",
   "metadata": {},
   "outputs": [],
   "source": [
    "df_final = merged_df [['crime','number', 'date','location', 'BEAT','neighborhood','npu','lat','long','type','road','neighbourhood_lookup','county','postcode','ZONE']]"
   ]
  },
  {
   "cell_type": "code",
   "execution_count": 21,
   "id": "5d9a4374",
   "metadata": {},
   "outputs": [
    {
     "name": "stderr",
     "output_type": "stream",
     "text": [
      "C:\\Users\\HP\\AppData\\Local\\Temp\\ipykernel_26040\\930250020.py:9: SettingWithCopyWarning: \n",
      "A value is trying to be set on a copy of a slice from a DataFrame.\n",
      "Try using .loc[row_indexer,col_indexer] = value instead\n",
      "\n",
      "See the caveats in the documentation: https://pandas.pydata.org/pandas-docs/stable/user_guide/indexing.html#returning-a-view-versus-a-copy\n",
      "  df_final.at[i, 'crimeid'] = id_dict[crime]\n"
     ]
    }
   ],
   "source": [
    "# create dictionary to store IDs for each crime type\n",
    "id_dict = {}\n",
    "\n",
    "# iterate through rows of dataframe\n",
    "for i, row in df_final.iterrows():\n",
    "    crime = row['crime']\n",
    "    if crime not in id_dict:\n",
    "        id_dict[crime] = len(id_dict) + 1\n",
    "    df_final.at[i, 'crimeid'] = id_dict[crime]"
   ]
  },
  {
   "cell_type": "code",
   "execution_count": 22,
   "id": "430519e1",
   "metadata": {},
   "outputs": [
    {
     "name": "stderr",
     "output_type": "stream",
     "text": [
      "C:\\Users\\HP\\AppData\\Local\\Temp\\ipykernel_26040\\64126788.py:9: SettingWithCopyWarning: \n",
      "A value is trying to be set on a copy of a slice from a DataFrame.\n",
      "Try using .loc[row_indexer,col_indexer] = value instead\n",
      "\n",
      "See the caveats in the documentation: https://pandas.pydata.org/pandas-docs/stable/user_guide/indexing.html#returning-a-view-versus-a-copy\n",
      "  df_final.at[i, 'dateid'] = id_dict[date]\n"
     ]
    }
   ],
   "source": [
    "# create dictionary to store IDs for each date\n",
    "id_dict = {}\n",
    "\n",
    "# iterate through rows of dataframe\n",
    "for i, row in df_final.iterrows():\n",
    "    date = row['date']\n",
    "    if date not in id_dict:\n",
    "        id_dict[date] = len(id_dict) + 1\n",
    "    df_final.at[i, 'dateid'] = id_dict[date]"
   ]
  },
  {
   "cell_type": "code",
   "execution_count": 23,
   "id": "ebc06148",
   "metadata": {},
   "outputs": [
    {
     "name": "stderr",
     "output_type": "stream",
     "text": [
      "C:\\Users\\HP\\AppData\\Local\\Temp\\ipykernel_26040\\2221499211.py:9: SettingWithCopyWarning: \n",
      "A value is trying to be set on a copy of a slice from a DataFrame.\n",
      "Try using .loc[row_indexer,col_indexer] = value instead\n",
      "\n",
      "See the caveats in the documentation: https://pandas.pydata.org/pandas-docs/stable/user_guide/indexing.html#returning-a-view-versus-a-copy\n",
      "  df_final.at[i, 'neighborhoodid'] = id_dict[neighborhood]\n"
     ]
    }
   ],
   "source": [
    "# create dictionary to store IDs for each neighbourhood\n",
    "id_dict = {}\n",
    "\n",
    "# iterate through rows of dataframe\n",
    "for i, row in df_final.iterrows():\n",
    "    neighborhood = row['neighborhood']\n",
    "    if neighborhood not in id_dict:\n",
    "        id_dict[neighborhood] = len(id_dict) + 1\n",
    "    df_final.at[i, 'neighborhoodid'] = id_dict[neighborhood]"
   ]
  },
  {
   "cell_type": "code",
   "execution_count": 24,
   "id": "831ce321",
   "metadata": {},
   "outputs": [
    {
     "name": "stderr",
     "output_type": "stream",
     "text": [
      "C:\\Users\\HP\\AppData\\Local\\Temp\\ipykernel_26040\\1859485458.py:9: SettingWithCopyWarning: \n",
      "A value is trying to be set on a copy of a slice from a DataFrame.\n",
      "Try using .loc[row_indexer,col_indexer] = value instead\n",
      "\n",
      "See the caveats in the documentation: https://pandas.pydata.org/pandas-docs/stable/user_guide/indexing.html#returning-a-view-versus-a-copy\n",
      "  df_final.at[i, 'npuid'] = id_dict[npu]\n"
     ]
    }
   ],
   "source": [
    "# create dictionary to store IDs for each NPU\n",
    "id_dict = {}\n",
    "\n",
    "# iterate through rows of dataframe\n",
    "for i, row in df_final.iterrows():\n",
    "    npu = row['npu']\n",
    "    if npu not in id_dict:\n",
    "        id_dict[npu] = len(id_dict) + 1\n",
    "    df_final.at[i, 'npuid'] = id_dict[npu]"
   ]
  },
  {
   "cell_type": "code",
   "execution_count": 25,
   "id": "6aae079f",
   "metadata": {},
   "outputs": [
    {
     "name": "stderr",
     "output_type": "stream",
     "text": [
      "C:\\Users\\HP\\AppData\\Local\\Temp\\ipykernel_26040\\1150612006.py:9: SettingWithCopyWarning: \n",
      "A value is trying to be set on a copy of a slice from a DataFrame.\n",
      "Try using .loc[row_indexer,col_indexer] = value instead\n",
      "\n",
      "See the caveats in the documentation: https://pandas.pydata.org/pandas-docs/stable/user_guide/indexing.html#returning-a-view-versus-a-copy\n",
      "  df_final.at[i, 'neighbourhood_lookupid'] = id_dict[neighbourhood_lookup]\n"
     ]
    }
   ],
   "source": [
    "# create dictionary to store IDs for each neighbourhood_lookup\n",
    "id_dict = {}\n",
    "\n",
    "# iterate through rows of dataframe\n",
    "for i, row in df_final.iterrows():\n",
    "    neighbourhood_lookup = row['neighbourhood_lookup']\n",
    "    if neighbourhood_lookup not in id_dict:\n",
    "        id_dict[neighbourhood_lookup] = len(id_dict) + 1\n",
    "    df_final.at[i, 'neighbourhood_lookupid'] = id_dict[neighbourhood_lookup]"
   ]
  },
  {
   "cell_type": "code",
   "execution_count": 26,
   "id": "dcaa86f2",
   "metadata": {},
   "outputs": [
    {
     "name": "stderr",
     "output_type": "stream",
     "text": [
      "C:\\Users\\HP\\AppData\\Local\\Temp\\ipykernel_26040\\3376729655.py:11: SettingWithCopyWarning: \n",
      "A value is trying to be set on a copy of a slice from a DataFrame.\n",
      "Try using .loc[row_indexer,col_indexer] = value instead\n",
      "\n",
      "See the caveats in the documentation: https://pandas.pydata.org/pandas-docs/stable/user_guide/indexing.html#returning-a-view-versus-a-copy\n",
      "  df_final.at[i, 'locationid'] = id_dict[loc]\n"
     ]
    }
   ],
   "source": [
    "# create dictionary to store IDs for each location\n",
    "id_dict = {}\n",
    "\n",
    "# iterate through rows of dataframe\n",
    "for i, row in df_final.iterrows():\n",
    "    lat = row['lat']\n",
    "    long = row['long']\n",
    "    loc = f\"{lat} {long}\"\n",
    "    if loc not in id_dict:\n",
    "        id_dict[loc] = len(id_dict) + 1\n",
    "    df_final.at[i, 'locationid'] = id_dict[loc]"
   ]
  },
  {
   "cell_type": "code",
   "execution_count": 27,
   "id": "09d8e44b",
   "metadata": {},
   "outputs": [
    {
     "name": "stderr",
     "output_type": "stream",
     "text": [
      "C:\\Users\\HP\\AppData\\Local\\Temp\\ipykernel_26040\\2262791014.py:9: SettingWithCopyWarning: \n",
      "A value is trying to be set on a copy of a slice from a DataFrame.\n",
      "Try using .loc[row_indexer,col_indexer] = value instead\n",
      "\n",
      "See the caveats in the documentation: https://pandas.pydata.org/pandas-docs/stable/user_guide/indexing.html#returning-a-view-versus-a-copy\n",
      "  df_final.at[i, 'BEATid'] = id_dict[BEAT]\n"
     ]
    }
   ],
   "source": [
    "# create dictionary to store IDs for each Beat\n",
    "id_dict = {}\n",
    "\n",
    "# iterate through rows of dataframe\n",
    "for i, row in df_final.iterrows():\n",
    "    BEAT = row['BEAT']\n",
    "    if BEAT not in id_dict:\n",
    "        id_dict[BEAT] = len(id_dict) + 1\n",
    "    df_final.at[i, 'BEATid'] = id_dict[BEAT]"
   ]
  },
  {
   "cell_type": "code",
   "execution_count": 28,
   "id": "2417b4ba",
   "metadata": {},
   "outputs": [
    {
     "name": "stderr",
     "output_type": "stream",
     "text": [
      "C:\\Users\\HP\\AppData\\Local\\Temp\\ipykernel_26040\\1294142628.py:9: SettingWithCopyWarning: \n",
      "A value is trying to be set on a copy of a slice from a DataFrame.\n",
      "Try using .loc[row_indexer,col_indexer] = value instead\n",
      "\n",
      "See the caveats in the documentation: https://pandas.pydata.org/pandas-docs/stable/user_guide/indexing.html#returning-a-view-versus-a-copy\n",
      "  df_final.at[i, 'ZONEid'] = id_dict[BEAT]\n"
     ]
    }
   ],
   "source": [
    "# create dictionary to store IDs for each Zone\n",
    "id_dict = {}\n",
    "\n",
    "# iterate through rows of dataframe\n",
    "for i, row in df_final.iterrows():\n",
    "    BEAT = row['ZONE']\n",
    "    if BEAT not in id_dict:\n",
    "        id_dict[BEAT] = len(id_dict) + 1\n",
    "    df_final.at[i, 'ZONEid'] = id_dict[BEAT]"
   ]
  },
  {
   "cell_type": "markdown",
   "id": "025887c5",
   "metadata": {},
   "source": [
    "### Change datatype"
   ]
  },
  {
   "cell_type": "code",
   "execution_count": 29,
   "id": "71bbb393",
   "metadata": {},
   "outputs": [
    {
     "name": "stderr",
     "output_type": "stream",
     "text": [
      "C:\\Users\\HP\\AppData\\Local\\Temp\\ipykernel_26040\\1784980855.py:1: SettingWithCopyWarning: \n",
      "A value is trying to be set on a copy of a slice from a DataFrame.\n",
      "Try using .loc[row_indexer,col_indexer] = value instead\n",
      "\n",
      "See the caveats in the documentation: https://pandas.pydata.org/pandas-docs/stable/user_guide/indexing.html#returning-a-view-versus-a-copy\n",
      "  df_final['ZONE'] = df_final['ZONE'].astype(int)\n",
      "C:\\Users\\HP\\AppData\\Local\\Temp\\ipykernel_26040\\1784980855.py:2: SettingWithCopyWarning: \n",
      "A value is trying to be set on a copy of a slice from a DataFrame.\n",
      "Try using .loc[row_indexer,col_indexer] = value instead\n",
      "\n",
      "See the caveats in the documentation: https://pandas.pydata.org/pandas-docs/stable/user_guide/indexing.html#returning-a-view-versus-a-copy\n",
      "  df_final['crimeid'] = df_final['crimeid'].astype(int)\n",
      "C:\\Users\\HP\\AppData\\Local\\Temp\\ipykernel_26040\\1784980855.py:3: SettingWithCopyWarning: \n",
      "A value is trying to be set on a copy of a slice from a DataFrame.\n",
      "Try using .loc[row_indexer,col_indexer] = value instead\n",
      "\n",
      "See the caveats in the documentation: https://pandas.pydata.org/pandas-docs/stable/user_guide/indexing.html#returning-a-view-versus-a-copy\n",
      "  df_final['dateid'] = df_final['dateid'].astype(int)\n",
      "C:\\Users\\HP\\AppData\\Local\\Temp\\ipykernel_26040\\1784980855.py:4: SettingWithCopyWarning: \n",
      "A value is trying to be set on a copy of a slice from a DataFrame.\n",
      "Try using .loc[row_indexer,col_indexer] = value instead\n",
      "\n",
      "See the caveats in the documentation: https://pandas.pydata.org/pandas-docs/stable/user_guide/indexing.html#returning-a-view-versus-a-copy\n",
      "  df_final['neighborhoodid'] = df_final['neighborhoodid'].astype(int)\n",
      "C:\\Users\\HP\\AppData\\Local\\Temp\\ipykernel_26040\\1784980855.py:5: SettingWithCopyWarning: \n",
      "A value is trying to be set on a copy of a slice from a DataFrame.\n",
      "Try using .loc[row_indexer,col_indexer] = value instead\n",
      "\n",
      "See the caveats in the documentation: https://pandas.pydata.org/pandas-docs/stable/user_guide/indexing.html#returning-a-view-versus-a-copy\n",
      "  df_final['npuid'] = df_final['npuid'].astype(int)\n",
      "C:\\Users\\HP\\AppData\\Local\\Temp\\ipykernel_26040\\1784980855.py:6: SettingWithCopyWarning: \n",
      "A value is trying to be set on a copy of a slice from a DataFrame.\n",
      "Try using .loc[row_indexer,col_indexer] = value instead\n",
      "\n",
      "See the caveats in the documentation: https://pandas.pydata.org/pandas-docs/stable/user_guide/indexing.html#returning-a-view-versus-a-copy\n",
      "  df_final['neighbourhood_lookupid'] = df_final['neighbourhood_lookupid'].astype(int)\n",
      "C:\\Users\\HP\\AppData\\Local\\Temp\\ipykernel_26040\\1784980855.py:7: SettingWithCopyWarning: \n",
      "A value is trying to be set on a copy of a slice from a DataFrame.\n",
      "Try using .loc[row_indexer,col_indexer] = value instead\n",
      "\n",
      "See the caveats in the documentation: https://pandas.pydata.org/pandas-docs/stable/user_guide/indexing.html#returning-a-view-versus-a-copy\n",
      "  df_final['locationid'] = df_final['locationid'].astype(int)\n",
      "C:\\Users\\HP\\AppData\\Local\\Temp\\ipykernel_26040\\1784980855.py:8: SettingWithCopyWarning: \n",
      "A value is trying to be set on a copy of a slice from a DataFrame.\n",
      "Try using .loc[row_indexer,col_indexer] = value instead\n",
      "\n",
      "See the caveats in the documentation: https://pandas.pydata.org/pandas-docs/stable/user_guide/indexing.html#returning-a-view-versus-a-copy\n",
      "  df_final['BEATid'] = df_final['BEATid'].astype(int)\n",
      "C:\\Users\\HP\\AppData\\Local\\Temp\\ipykernel_26040\\1784980855.py:9: SettingWithCopyWarning: \n",
      "A value is trying to be set on a copy of a slice from a DataFrame.\n",
      "Try using .loc[row_indexer,col_indexer] = value instead\n",
      "\n",
      "See the caveats in the documentation: https://pandas.pydata.org/pandas-docs/stable/user_guide/indexing.html#returning-a-view-versus-a-copy\n",
      "  df_final['ZONEid'] = df_final['ZONEid'].astype(int)\n"
     ]
    }
   ],
   "source": [
    "df_final['ZONE'] = df_final['ZONE'].astype(int)\n",
    "df_final['crimeid'] = df_final['crimeid'].astype(int)\n",
    "df_final['dateid'] = df_final['dateid'].astype(int)\n",
    "df_final['neighborhoodid'] = df_final['neighborhoodid'].astype(int)\n",
    "df_final['npuid'] = df_final['npuid'].astype(int)\n",
    "df_final['neighbourhood_lookupid'] = df_final['neighbourhood_lookupid'].astype(int)\n",
    "df_final['locationid'] = df_final['locationid'].astype(int)\n",
    "df_final['BEATid'] = df_final['BEATid'].astype(int)\n",
    "df_final['ZONEid'] = df_final['ZONEid'].astype(int)"
   ]
  },
  {
   "cell_type": "code",
   "execution_count": 30,
   "id": "4d3b703a",
   "metadata": {},
   "outputs": [
    {
     "name": "stderr",
     "output_type": "stream",
     "text": [
      "C:\\Users\\HP\\AppData\\Local\\Temp\\ipykernel_26040\\230475871.py:2: SettingWithCopyWarning: \n",
      "A value is trying to be set on a copy of a slice from a DataFrame.\n",
      "Try using .loc[row_indexer,col_indexer] = value instead\n",
      "\n",
      "See the caveats in the documentation: https://pandas.pydata.org/pandas-docs/stable/user_guide/indexing.html#returning-a-view-versus-a-copy\n",
      "  df_final['date'] = pd.to_datetime(df_final['date'])\n",
      "C:\\Users\\HP\\AppData\\Local\\Temp\\ipykernel_26040\\230475871.py:5: SettingWithCopyWarning: \n",
      "A value is trying to be set on a copy of a slice from a DataFrame.\n",
      "Try using .loc[row_indexer,col_indexer] = value instead\n",
      "\n",
      "See the caveats in the documentation: https://pandas.pydata.org/pandas-docs/stable/user_guide/indexing.html#returning-a-view-versus-a-copy\n",
      "  df_final['day'] = df_final['date'].dt.day\n",
      "C:\\Users\\HP\\AppData\\Local\\Temp\\ipykernel_26040\\230475871.py:6: SettingWithCopyWarning: \n",
      "A value is trying to be set on a copy of a slice from a DataFrame.\n",
      "Try using .loc[row_indexer,col_indexer] = value instead\n",
      "\n",
      "See the caveats in the documentation: https://pandas.pydata.org/pandas-docs/stable/user_guide/indexing.html#returning-a-view-versus-a-copy\n",
      "  df_final['month'] = df_final['date'].dt.month\n",
      "C:\\Users\\HP\\AppData\\Local\\Temp\\ipykernel_26040\\230475871.py:7: SettingWithCopyWarning: \n",
      "A value is trying to be set on a copy of a slice from a DataFrame.\n",
      "Try using .loc[row_indexer,col_indexer] = value instead\n",
      "\n",
      "See the caveats in the documentation: https://pandas.pydata.org/pandas-docs/stable/user_guide/indexing.html#returning-a-view-versus-a-copy\n",
      "  df_final['quarter'] = df_final['date'].dt.quarter\n",
      "C:\\Users\\HP\\AppData\\Local\\Temp\\ipykernel_26040\\230475871.py:8: SettingWithCopyWarning: \n",
      "A value is trying to be set on a copy of a slice from a DataFrame.\n",
      "Try using .loc[row_indexer,col_indexer] = value instead\n",
      "\n",
      "See the caveats in the documentation: https://pandas.pydata.org/pandas-docs/stable/user_guide/indexing.html#returning-a-view-versus-a-copy\n",
      "  df_final['year'] = df_final['date'].dt.strftime('%Y')\n"
     ]
    }
   ],
   "source": [
    "# Split date as Day,Month,Quarter,Year\n",
    "df_final['date'] = pd.to_datetime(df_final['date'])\n",
    "\n",
    "# Create new columns for day, month, quarter, and year\n",
    "df_final['day'] = df_final['date'].dt.day\n",
    "df_final['month'] = df_final['date'].dt.month\n",
    "df_final['quarter'] = df_final['date'].dt.quarter\n",
    "df_final['year'] = df_final['date'].dt.strftime('%Y')\n",
    "df_final=df_final.drop('date',axis=1)"
   ]
  },
  {
   "cell_type": "markdown",
   "id": "9475db76",
   "metadata": {},
   "source": [
    "## Split dataset for each dimension table"
   ]
  },
  {
   "cell_type": "code",
   "execution_count": 31,
   "id": "79483ff2",
   "metadata": {},
   "outputs": [],
   "source": [
    "counts = df_final.groupby(['number', 'crimeid']).size().reset_index(name='count_crime_type')"
   ]
  },
  {
   "cell_type": "code",
   "execution_count": 32,
   "id": "44f83b7c",
   "metadata": {},
   "outputs": [],
   "source": [
    "df_withcrime_count = pd.merge(df_final, counts, on='number')\n",
    "df_withcrime_count = df_withcrime_count.drop('crimeid_y', axis=1)"
   ]
  },
  {
   "cell_type": "code",
   "execution_count": 33,
   "id": "a79d7481",
   "metadata": {},
   "outputs": [],
   "source": [
    "df_withcrime_count.to_csv('D:/uwa/Data_Warehousing/project1/crime_ETL_withcrime_count.csv', index=False)"
   ]
  },
  {
   "cell_type": "code",
   "execution_count": 34,
   "id": "3a0aff19",
   "metadata": {},
   "outputs": [
    {
     "name": "stdout",
     "output_type": "stream",
     "text": [
      "<class 'pandas.core.frame.DataFrame'>\n",
      "Int64Index: 14634 entries, 0 to 14633\n",
      "Data columns (total 27 columns):\n",
      " #   Column                  Non-Null Count  Dtype  \n",
      "---  ------                  --------------  -----  \n",
      " 0   crime                   14634 non-null  object \n",
      " 1   number                  14634 non-null  int32  \n",
      " 2   location                14634 non-null  object \n",
      " 3   BEAT                    14634 non-null  int64  \n",
      " 4   neighborhood            14634 non-null  object \n",
      " 5   npu                     14634 non-null  object \n",
      " 6   lat                     14634 non-null  float64\n",
      " 7   long                    14634 non-null  float64\n",
      " 8   type                    14634 non-null  object \n",
      " 9   road                    14634 non-null  object \n",
      " 10  neighbourhood_lookup    14634 non-null  object \n",
      " 11  county                  14634 non-null  object \n",
      " 12  postcode                14634 non-null  int32  \n",
      " 13  ZONE                    14634 non-null  int32  \n",
      " 14  crimeid_x               14634 non-null  int32  \n",
      " 15  dateid                  14634 non-null  int32  \n",
      " 16  neighborhoodid          14634 non-null  int32  \n",
      " 17  npuid                   14634 non-null  int32  \n",
      " 18  neighbourhood_lookupid  14634 non-null  int32  \n",
      " 19  locationid              14634 non-null  int32  \n",
      " 20  BEATid                  14634 non-null  int32  \n",
      " 21  ZONEid                  14634 non-null  int32  \n",
      " 22  day                     14634 non-null  int64  \n",
      " 23  month                   14634 non-null  int64  \n",
      " 24  quarter                 14634 non-null  int64  \n",
      " 25  year                    14634 non-null  object \n",
      " 26  count_crime_type        14634 non-null  int64  \n",
      "dtypes: float64(2), int32(11), int64(5), object(9)\n",
      "memory usage: 2.5+ MB\n"
     ]
    }
   ],
   "source": [
    "df_withcrime_count.info()"
   ]
  },
  {
   "cell_type": "code",
   "execution_count": 35,
   "id": "d48f5915",
   "metadata": {},
   "outputs": [],
   "source": [
    "df_loc = df_withcrime_count [['locationid','location', 'neighborhoodid','npuid','lat','long','road','neighbourhood_lookupid','postcode','county']]\n",
    "df_loc = df_loc.drop_duplicates(subset='locationid')"
   ]
  },
  {
   "cell_type": "code",
   "execution_count": 36,
   "id": "177b301d",
   "metadata": {},
   "outputs": [],
   "source": [
    "df_loc.to_csv('D:/uwa/Data_Warehousing/project1/crime_dimlocation.csv', index=False)"
   ]
  },
  {
   "cell_type": "code",
   "execution_count": 37,
   "id": "0bfeb24b",
   "metadata": {},
   "outputs": [],
   "source": [
    "df_neighborhood = df_withcrime_count [[ 'neighborhoodid','neighborhood']]\n",
    "df_neighborhood = df_neighborhood.drop_duplicates(subset='neighborhoodid')"
   ]
  },
  {
   "cell_type": "code",
   "execution_count": 38,
   "id": "18aacfc9",
   "metadata": {},
   "outputs": [],
   "source": [
    "df_neighborhood.to_csv('D:/uwa/Data_Warehousing/project1/crime_dimneighborhood.csv', index=False)"
   ]
  },
  {
   "cell_type": "code",
   "execution_count": 39,
   "id": "e20ea019",
   "metadata": {},
   "outputs": [],
   "source": [
    "df_neighborhood_lookup = df_withcrime_count [[ 'neighbourhood_lookupid','neighbourhood_lookup']]\n",
    "df_neighborhood_lookup = df_neighborhood_lookup.drop_duplicates(subset='neighbourhood_lookupid')"
   ]
  },
  {
   "cell_type": "code",
   "execution_count": 40,
   "id": "b0612383",
   "metadata": {},
   "outputs": [],
   "source": [
    "df_neighborhood_lookup.to_csv('D:/uwa/Data_Warehousing/project1/crime_dimneighborhoodlookup.csv', index=False)"
   ]
  },
  {
   "cell_type": "code",
   "execution_count": 41,
   "id": "fc765411",
   "metadata": {},
   "outputs": [],
   "source": [
    "df_npu = df_withcrime_count [[ 'npuid','npu']]\n",
    "df_npu = df_npu.drop_duplicates(subset='npuid')"
   ]
  },
  {
   "cell_type": "code",
   "execution_count": 42,
   "id": "e7622065",
   "metadata": {},
   "outputs": [],
   "source": [
    "df_npu.to_csv('D:/uwa/Data_Warehousing/project1/crime_dimnpu.csv', index=False)"
   ]
  },
  {
   "cell_type": "code",
   "execution_count": 43,
   "id": "ad9bcbe3",
   "metadata": {},
   "outputs": [],
   "source": [
    "df_BEAT = df_withcrime_count [[ 'BEATid','BEAT']]\n",
    "df_BEAT = df_BEAT.drop_duplicates(subset='BEATid')"
   ]
  },
  {
   "cell_type": "code",
   "execution_count": 44,
   "id": "c8510fc6",
   "metadata": {},
   "outputs": [],
   "source": [
    "df_BEAT.to_csv('D:/uwa/Data_Warehousing/project1/crime_dimbeat.csv', index=False)"
   ]
  },
  {
   "cell_type": "code",
   "execution_count": 45,
   "id": "4d451637",
   "metadata": {},
   "outputs": [],
   "source": [
    "df_ZONE = df_withcrime_count [[ 'ZONEid','ZONE']]\n",
    "df_ZONE = df_ZONE.drop_duplicates(subset='ZONEid')"
   ]
  },
  {
   "cell_type": "code",
   "execution_count": 46,
   "id": "450173da",
   "metadata": {},
   "outputs": [],
   "source": [
    "df_ZONE.to_csv('D:/uwa/Data_Warehousing/project1/crime_dimzone.csv', index=False)"
   ]
  },
  {
   "cell_type": "code",
   "execution_count": 47,
   "id": "eda4489c",
   "metadata": {},
   "outputs": [],
   "source": [
    "df_crime = df_withcrime_count [[ 'crimeid_x','crime']]\n",
    "df_crime = df_crime.drop_duplicates(subset='crimeid_x')"
   ]
  },
  {
   "cell_type": "code",
   "execution_count": 48,
   "id": "34d5e18f",
   "metadata": {},
   "outputs": [],
   "source": [
    "df_crime.to_csv('D:/uwa/Data_Warehousing/project1/crime_dimcrime.csv', index=False)"
   ]
  },
  {
   "cell_type": "code",
   "execution_count": 49,
   "id": "58ffd609",
   "metadata": {},
   "outputs": [],
   "source": [
    "df_date = df_withcrime_count [[ 'dateid','day','month','quarter','year']]\n",
    "df_date = df_date.drop_duplicates(subset='dateid')"
   ]
  },
  {
   "cell_type": "code",
   "execution_count": 50,
   "id": "f993c8ce",
   "metadata": {},
   "outputs": [],
   "source": [
    "df_date.to_csv('D:/uwa/Data_Warehousing/project1/crime_dimdate.csv', index=False)"
   ]
  },
  {
   "cell_type": "code",
   "execution_count": 51,
   "id": "4fc26462",
   "metadata": {},
   "outputs": [
    {
     "data": {
      "text/html": [
       "<div>\n",
       "<style scoped>\n",
       "    .dataframe tbody tr th:only-of-type {\n",
       "        vertical-align: middle;\n",
       "    }\n",
       "\n",
       "    .dataframe tbody tr th {\n",
       "        vertical-align: top;\n",
       "    }\n",
       "\n",
       "    .dataframe thead th {\n",
       "        text-align: right;\n",
       "    }\n",
       "</style>\n",
       "<table border=\"1\" class=\"dataframe\">\n",
       "  <thead>\n",
       "    <tr style=\"text-align: right;\">\n",
       "      <th></th>\n",
       "      <th>number</th>\n",
       "      <th>locationid</th>\n",
       "      <th>BEATid</th>\n",
       "      <th>ZONEid</th>\n",
       "      <th>dateid</th>\n",
       "      <th>crimeid_x</th>\n",
       "      <th>count_crime_type</th>\n",
       "    </tr>\n",
       "  </thead>\n",
       "  <tbody>\n",
       "    <tr>\n",
       "      <th>0</th>\n",
       "      <td>103040061</td>\n",
       "      <td>1</td>\n",
       "      <td>1</td>\n",
       "      <td>1</td>\n",
       "      <td>1</td>\n",
       "      <td>1</td>\n",
       "      <td>1</td>\n",
       "    </tr>\n",
       "    <tr>\n",
       "      <th>1</th>\n",
       "      <td>103040169</td>\n",
       "      <td>2</td>\n",
       "      <td>2</td>\n",
       "      <td>2</td>\n",
       "      <td>1</td>\n",
       "      <td>2</td>\n",
       "      <td>1</td>\n",
       "    </tr>\n",
       "    <tr>\n",
       "      <th>2</th>\n",
       "      <td>103040301</td>\n",
       "      <td>3</td>\n",
       "      <td>3</td>\n",
       "      <td>3</td>\n",
       "      <td>1</td>\n",
       "      <td>3</td>\n",
       "      <td>1</td>\n",
       "    </tr>\n",
       "    <tr>\n",
       "      <th>3</th>\n",
       "      <td>103040345</td>\n",
       "      <td>4</td>\n",
       "      <td>4</td>\n",
       "      <td>1</td>\n",
       "      <td>1</td>\n",
       "      <td>4</td>\n",
       "      <td>1</td>\n",
       "    </tr>\n",
       "    <tr>\n",
       "      <th>4</th>\n",
       "      <td>103040385</td>\n",
       "      <td>5</td>\n",
       "      <td>4</td>\n",
       "      <td>1</td>\n",
       "      <td>1</td>\n",
       "      <td>3</td>\n",
       "      <td>1</td>\n",
       "    </tr>\n",
       "    <tr>\n",
       "      <th>...</th>\n",
       "      <td>...</td>\n",
       "      <td>...</td>\n",
       "      <td>...</td>\n",
       "      <td>...</td>\n",
       "      <td>...</td>\n",
       "      <td>...</td>\n",
       "      <td>...</td>\n",
       "    </tr>\n",
       "    <tr>\n",
       "      <th>14629</th>\n",
       "      <td>100051255</td>\n",
       "      <td>6028</td>\n",
       "      <td>55</td>\n",
       "      <td>2</td>\n",
       "      <td>275</td>\n",
       "      <td>7</td>\n",
       "      <td>1</td>\n",
       "    </tr>\n",
       "    <tr>\n",
       "      <th>14630</th>\n",
       "      <td>100051323</td>\n",
       "      <td>995</td>\n",
       "      <td>12</td>\n",
       "      <td>3</td>\n",
       "      <td>275</td>\n",
       "      <td>3</td>\n",
       "      <td>1</td>\n",
       "    </tr>\n",
       "    <tr>\n",
       "      <th>14631</th>\n",
       "      <td>100051329</td>\n",
       "      <td>804</td>\n",
       "      <td>28</td>\n",
       "      <td>5</td>\n",
       "      <td>275</td>\n",
       "      <td>2</td>\n",
       "      <td>1</td>\n",
       "    </tr>\n",
       "    <tr>\n",
       "      <th>14632</th>\n",
       "      <td>100051468</td>\n",
       "      <td>8228</td>\n",
       "      <td>10</td>\n",
       "      <td>2</td>\n",
       "      <td>275</td>\n",
       "      <td>7</td>\n",
       "      <td>1</td>\n",
       "    </tr>\n",
       "    <tr>\n",
       "      <th>14633</th>\n",
       "      <td>100051544</td>\n",
       "      <td>2650</td>\n",
       "      <td>54</td>\n",
       "      <td>3</td>\n",
       "      <td>275</td>\n",
       "      <td>8</td>\n",
       "      <td>1</td>\n",
       "    </tr>\n",
       "  </tbody>\n",
       "</table>\n",
       "<p>14634 rows × 7 columns</p>\n",
       "</div>"
      ],
      "text/plain": [
       "          number  locationid  BEATid  ZONEid  dateid  crimeid_x  \\\n",
       "0      103040061           1       1       1       1          1   \n",
       "1      103040169           2       2       2       1          2   \n",
       "2      103040301           3       3       3       1          3   \n",
       "3      103040345           4       4       1       1          4   \n",
       "4      103040385           5       4       1       1          3   \n",
       "...          ...         ...     ...     ...     ...        ...   \n",
       "14629  100051255        6028      55       2     275          7   \n",
       "14630  100051323         995      12       3     275          3   \n",
       "14631  100051329         804      28       5     275          2   \n",
       "14632  100051468        8228      10       2     275          7   \n",
       "14633  100051544        2650      54       3     275          8   \n",
       "\n",
       "       count_crime_type  \n",
       "0                     1  \n",
       "1                     1  \n",
       "2                     1  \n",
       "3                     1  \n",
       "4                     1  \n",
       "...                 ...  \n",
       "14629                 1  \n",
       "14630                 1  \n",
       "14631                 1  \n",
       "14632                 1  \n",
       "14633                 1  \n",
       "\n",
       "[14634 rows x 7 columns]"
      ]
     },
     "execution_count": 51,
     "metadata": {},
     "output_type": "execute_result"
    }
   ],
   "source": [
    "df_factcrime = df_withcrime_count [[ 'number','locationid','BEATid','ZONEid','dateid','crimeid_x','count_crime_type']]"
   ]
  },
  {
   "cell_type": "code",
   "execution_count": 52,
   "id": "5a5dab22",
   "metadata": {},
   "outputs": [],
   "source": [
    "df_factcrime.to_csv('D:/uwa/Data_Warehousing/project1/crime_factcrime.csv', index=False)"
   ]
  }
 ],
 "metadata": {
  "kernelspec": {
   "display_name": "Python 3 (ipykernel)",
   "language": "python",
   "name": "python3"
  },
  "language_info": {
   "codemirror_mode": {
    "name": "ipython",
    "version": 3
   },
   "file_extension": ".py",
   "mimetype": "text/x-python",
   "name": "python",
   "nbconvert_exporter": "python",
   "pygments_lexer": "ipython3",
   "version": "3.8.5"
  }
 },
 "nbformat": 4,
 "nbformat_minor": 5
}
